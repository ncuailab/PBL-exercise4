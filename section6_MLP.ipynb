{
  "nbformat": 4,
  "nbformat_minor": 0,
  "metadata": {
    "colab": {
      "provenance": []
    },
    "kernelspec": {
      "name": "python3",
      "display_name": "Python 3"
    },
    "language_info": {
      "name": "python"
    }
  },
  "cells": [
    {
      "cell_type": "code",
      "execution_count": 1,
      "metadata": {
        "colab": {
          "base_uri": "https://localhost:8080/"
        },
        "id": "lYH6t1UjwXy2",
        "outputId": "68629ffd-313f-4344-e18e-8d2dfd798707"
      },
      "outputs": [
        {
          "output_type": "stream",
          "name": "stdout",
          "text": [
            "Mounted at /content/drive\n"
          ]
        }
      ],
      "source": [
        "#データとモジュールの読み込み\n",
        "import numpy as np\n",
        "import pandas as pd\n",
        "# 機械学習のライブラリ．今回は線形回帰LinearRegressionを動かす．\n",
        "# LinearRegressionはsklearnのlinear_modelモジュールの中にあるので，次のようにインポートする\n",
        "from sklearn.linear_model import LinearRegression\n",
        "from google.colab import drive\n",
        "drive.mount('/content/drive') # google driveをマウント（＝Colabから使えるようにする）\n",
        "# Google Colabの場合\n",
        "d_train = pd.read_csv(\"/content/drive/My Drive/PBL2025/omni2_selected_2000_2024.csv\") # 訓練データを読み込む\n",
        "d_test = pd.read_csv(\"/content/drive/My Drive/PBL2025/omni2_selected_2025H1_Dst99999.csv\") # テストデータを読み込む"
      ]
    },
    {
      "cell_type": "code",
      "source": [
        "#指定した列だけ取り出す\n",
        "xlist = [ 'Year', 'Month', 'Day_of_month','Hour[h]', 'B_mag[nT]','Bx_GSE[nT]', 'By_GSM[nT]','Bz_GSM[nT]', 'T_proton[K]', 'N_proton[cm^-3]', 'V_sw[km/s]',\n",
        "         'Flow_pressure[nPa]', 'E_field[mV/m]', 'Sunspot_num', 'f10.7[sfu]', 'Lyman_alpha[W/m^2]']\n",
        "         #colabの場合はReturnで改行できる\n",
        "ylist = ['Dst[nT]']\n",
        "x_train = d_train[xlist]\n",
        "y_train = d_train[ylist]\n",
        "x_test = d_test[xlist]\n",
        "y_test = d_test[ylist]"
      ],
      "metadata": {
        "id": "kwO67HejwZ1a"
      },
      "execution_count": 2,
      "outputs": []
    },
    {
      "cell_type": "code",
      "source": [
        "#訓練データに新しい特徴量を追加\n",
        "x_train['Bz_lag6'] = x_train['Bz_GSM[nT]'].shift(6)\n",
        "x_train['Bz_diff6'] = x_train['Bz_GSM[nT]'] - x_train['Bz_GSM[nT]'].shift(6)\n",
        "x_train['Bz_ma3'] = x_train['Bz_GSM[nT]'].rolling(3).mean()\n",
        "x_train['Ef_lag6'] = x_train['E_field[mV/m]'].shift(6)\n",
        "x_train['Ef_diff6'] = x_train['E_field[mV/m]'] - x_train['E_field[mV/m]'].shift(6)\n",
        "x_train['Ef_ma3'] = x_train['E_field[mV/m]'].rolling(3).mean()\n",
        "#テストデータに追加\n",
        "#Add new feature\n",
        "x_test['Bz_lag6'] = x_test['Bz_GSM[nT]'].shift(6)\n",
        "x_test['Bz_diff6'] = x_test['Bz_GSM[nT]'] - x_test['Bz_GSM[nT]'].shift(6)\n",
        "x_test['Bz_ma3'] = x_test['Bz_GSM[nT]'].rolling(3).mean()\n",
        "x_test['Ef_lag6'] = x_test['E_field[mV/m]'].shift(6)\n",
        "x_test['Ef_diff6'] = x_test['E_field[mV/m]'] - x_test['E_field[mV/m]'].shift(6)\n",
        "x_test['Ef_ma3'] = x_test['E_field[mV/m]'].rolling(3).mean()"
      ],
      "metadata": {
        "id": "Wjk5ztbgwb5a"
      },
      "execution_count": 3,
      "outputs": []
    },
    {
      "cell_type": "code",
      "source": [
        "x_train = x_train.bfill() #ひとつ前のデータで補間\n",
        "x_test = x_test.bfill()"
      ],
      "metadata": {
        "id": "IwsIdw_UwezK"
      },
      "execution_count": 4,
      "outputs": []
    },
    {
      "cell_type": "code",
      "source": [
        "# 分割前に必ず定義\n",
        "n_train = len(x_train)\n",
        "n_valid = int(0.2 * n_train)  # 検証データの数．ラベル付きデータ数n_trainの2割を検証データにする\n",
        "n_train = n_train - n_valid # 訓練データ数を計算し直す．検証データ以外全てなので，全体（n_train)からn_validationを引く\n",
        "x_valid = x_train[n_train:] # 現在のX_train_numの後半2割 = 前半8割以降\n",
        "x_train = x_train[:n_train] # 現在のX_train_numの前半8割．再代入する（変数名を使い回す）\n",
        "\n",
        "# 目標値も同じように分割する\n",
        "y_valid = y_train[n_train:]\n",
        "y_train = y_train[:n_train]"
      ],
      "metadata": {
        "id": "b146fCjxwh7D"
      },
      "execution_count": 5,
      "outputs": []
    },
    {
      "cell_type": "code",
      "source": [
        "from sklearn.preprocessing import StandardScaler\n",
        "from sklearn.linear_model import Ridge\n",
        "\n",
        "scaler = StandardScaler()\n",
        "x_train_scaled = scaler.fit_transform(x_train)\n",
        "x_valid_scaled = scaler.transform(x_valid)\n",
        "x_test_scaled = scaler.transform(x_test)"
      ],
      "metadata": {
        "id": "T0xnyBCqwklp"
      },
      "execution_count": 6,
      "outputs": []
    },
    {
      "cell_type": "code",
      "source": [
        "from sklearn.neural_network import MLPRegressor\n",
        "from sklearn.metrics import mean_squared_error\n",
        "import numpy as np\n",
        "\n",
        "# MLP（多層パーセプトロン）回帰\n",
        "mlp = MLPRegressor(\n",
        "    hidden_layer_sizes=(128, 64),  # 層とユニット数（適度に軽め）\n",
        "    activation=\"relu\",\n",
        "    solver=\"adam\",\n",
        "    alpha=1e-4,                    # L2正則化\n",
        "    batch_size=256,                # 大きめバッチで高速化\n",
        "    learning_rate=\"adaptive\",      # 改善しなければ学習率を自動で下げる\n",
        "    learning_rate_init=1e-3,\n",
        "    max_iter=500,\n",
        "    early_stopping=True,           # 早期終了を有効化（自動で検証分割）\n",
        "    validation_fraction=0.1,\n",
        "    n_iter_no_change=20,\n",
        "    random_state=42,\n",
        "    verbose=False\n",
        ")\n",
        "\n",
        "# 学習（y は 1次元配列にしておくと安心）\n",
        "mlp.fit(x_train_scaled, np.ravel(y_train.values))\n",
        "\n",
        "# 予測\n",
        "y_pred_valid = mlp.predict(x_valid_scaled)\n",
        "\n",
        "# MSE\n",
        "mse = mean_squared_error(y_valid, y_pred_valid)\n",
        "print(\"MSE:\", mse)\n",
        "\n",
        "# 収束情報（任意）\n",
        "print(\"n_iter_:\", getattr(mlp, \"n_iter_\", None))\n",
        "print(\"best_validation_score_ (loss):\", getattr(mlp, \"best_validation_score_\", None))\n",
        "\n"
      ],
      "metadata": {
        "colab": {
          "base_uri": "https://localhost:8080/"
        },
        "id": "AXYK2DORwnAO",
        "outputId": "cc4ae87f-1a4f-41a9-bf17-38e53ce165ac"
      },
      "execution_count": 7,
      "outputs": [
        {
          "output_type": "stream",
          "name": "stdout",
          "text": [
            "MSE: 2755.480124005739\n",
            "n_iter_: 256\n",
            "best_validation_score_ (loss): 0.8418411437207279\n"
          ]
        }
      ]
    },
    {
      "cell_type": "markdown",
      "source": [
        "上記の計算は10分以上かかります。\n",
        "\n",
        "より処理を軽量化して計算時間が短くなるコードです。\n",
        "結果も比べてみてください。"
      ],
      "metadata": {
        "id": "6AUrnE1XbBzR"
      }
    },
    {
      "cell_type": "code",
      "source": [
        "# === 軽量MLP（CPU向け）最小実装：サブセットで粗調整→全量で本学習 ===\n",
        "import numpy as np\n",
        "import pandas as pd\n",
        "from sklearn.pipeline import Pipeline\n",
        "from sklearn.impute import SimpleImputer\n",
        "from sklearn.preprocessing import StandardScaler\n",
        "from sklearn.decomposition import PCA\n",
        "from sklearn.neural_network import MLPRegressor\n",
        "from sklearn.metrics import mean_squared_error\n",
        "\n",
        "# --- 前提：x_train, y_train, x_valid, y_valid, x_test が既にある想定 ---\n",
        "# メモリ負荷と計算量を下げる\n",
        "def to_float32(df):\n",
        "    return df.astype(np.float32)\n",
        "\n",
        "x_train = to_float32(x_train)\n",
        "x_valid = to_float32(x_valid)\n",
        "x_test  = to_float32(x_test)\n",
        "y_train = np.asarray(y_train).ravel().astype(np.float32)\n",
        "y_valid = np.asarray(y_valid).ravel().astype(np.float32)\n",
        "\n",
        "# ====== 1) サブセットで軽量チューニング ======\n",
        "# 時系列の“直近”を使ってサブセット（30,000行）。重ければ15000に減らしてOK\n",
        "subset_n = min(len(x_train), 30000)\n",
        "X_tune = x_train.iloc[-subset_n:].copy()\n",
        "y_tune = y_train[-subset_n:].copy()\n",
        "\n",
        "# 次元数に応じてPCA次元を自動決定（最大40、元の次元の半分まで）\n",
        "n_features = X_tune.shape[1]\n",
        "pca_k = int(min(40, max(8, n_features // 2)))  # 8〜40の範囲\n",
        "print(f\"PCA components: {pca_k} / {n_features}\")\n",
        "\n",
        "# CPUで重くなりにくい設定（小さめのネット＋大きめバッチ＋早期終了）\n",
        "def make_mlp():\n",
        "    return MLPRegressor(\n",
        "        hidden_layer_sizes=(64, 32),   # さらに軽くしたい時は (32,16) に\n",
        "        activation=\"relu\",\n",
        "        solver=\"adam\",\n",
        "        alpha=1e-3,                    # L2正則化やや強めで安定\n",
        "        batch_size=1024,               # 大きめバッチでCPUでも速め\n",
        "        learning_rate=\"adaptive\",\n",
        "        learning_rate_init=8e-4,       # 少し低めで安定\n",
        "        max_iter=140,                  # 短め＋早期終了\n",
        "        early_stopping=True,\n",
        "        validation_fraction=0.1,\n",
        "        n_iter_no_change=12,\n",
        "        random_state=42,\n",
        "        verbose=False\n",
        "    )\n",
        "\n",
        "# パイプライン：欠損補完→標準化→PCA→MLP（木系じゃないのでスケーリング重要）\n",
        "pipe_tune = Pipeline([\n",
        "    (\"imp\",  SimpleImputer(strategy=\"median\")),\n",
        "    (\"sc\",   StandardScaler(with_mean=True, with_std=True)),\n",
        "    (\"pca\",  PCA(n_components=pca_k, svd_solver=\"auto\", random_state=42)),\n",
        "    (\"mlp\",  make_mlp()),\n",
        "])\n",
        "\n",
        "pipe_tune.fit(X_tune, y_tune)\n",
        "y_pred_valid_tune = pipe_tune.predict(x_valid)\n",
        "mse_tune = mean_squared_error(y_valid, y_pred_valid_tune)\n",
        "print(\"[TUNE] valid MSE:\", mse_tune)\n",
        "\n",
        "# ====== 2) 全量データで本学習（同構成） ======\n",
        "pipe_full = Pipeline([\n",
        "    (\"imp\",  SimpleImputer(strategy=\"median\")),\n",
        "    (\"sc\",   StandardScaler(with_mean=True, with_std=True)),\n",
        "    (\"pca\",  PCA(n_components=pca_k, svd_solver=\"auto\", random_state=42)),\n",
        "    (\"mlp\",  make_mlp()),\n",
        "])\n",
        "\n",
        "pipe_full.fit(x_train, y_train)\n",
        "y_pred_valid = pipe_full.predict(x_valid)\n",
        "mse_valid = mean_squared_error(y_valid, y_pred_valid)\n",
        "print(\"[FULL] valid MSE:\", mse_valid)\n",
        "\n",
        "# ====== 3) テスト評価（必要なら） ======\n",
        "y_pred_test = pipe_full.predict(x_test)\n",
        "# ここで y_test があるなら MSE を計算:\n",
        "# mse_test = mean_squared_error(y_test, y_pred_test); print(\"[FULL] test MSE:\", mse_test)\n"
      ],
      "metadata": {
        "id": "cer9711qyNoF",
        "colab": {
          "base_uri": "https://localhost:8080/"
        },
        "outputId": "b91c14d2-3d85-4349-ed0c-296df95f5977"
      },
      "execution_count": 10,
      "outputs": [
        {
          "output_type": "stream",
          "name": "stdout",
          "text": [
            "PCA components: 11 / 22\n",
            "[TUNE] valid MSE: 3674.03076171875\n",
            "[FULL] valid MSE: 346.52520751953125\n"
          ]
        }
      ]
    },
    {
      "cell_type": "code",
      "source": [
        "#モジュールの読み込み\n",
        "from sklearn.linear_model import LinearRegression\n",
        "\n",
        "# 通常の線形モデルの作成と予測\n",
        "lr = LinearRegression()# LinearRegressionのインスタンスの作成\n",
        "lr.fit(x_train, y_train)# 上で作ったオブジェクトの学習\n",
        "y_pred_valid_lr = lr.predict(x_valid)#　検証データに対する予測\n",
        "\n",
        "import matplotlib.pyplot as plt\n",
        "xplot = np.arange(n_valid) # 0,1,2...n_valid-1のような配列になる\n",
        "plt.figure(figsize=(10,5)) #figsize => (x,y)の図のサイズ\n",
        "plt.plot(xplot,y_pred_valid_lr,label=\"linear\") #label; 凡例の文字\n",
        "plt.plot(xplot,y_pred_valid,label=\"mlp\") #label; 凡例の文字\n",
        "plt.plot(xplot,y_valid,label=\"data\")\n",
        "plt.legend() #凡例を表示\n",
        "plt.show()"
      ],
      "metadata": {
        "colab": {
          "base_uri": "https://localhost:8080/",
          "height": 445
        },
        "id": "5NxwEK0vbtLl",
        "outputId": "8c8387fd-4aad-45f2-a845-4300c5a293e8"
      },
      "execution_count": 14,
      "outputs": [
        {
          "output_type": "display_data",
          "data": {
            "text/plain": [
              "<Figure size 1000x500 with 1 Axes>"
            ],
            "image/png": "[encoded data removed]"
          },
          "metadata": {}
        }
      ]
    },
    {
      "cell_type": "code",
      "source": [
        "#テストデータの予測と提出\n",
        "y_pred_test = mlp.predict(x_test_scaled)\n",
        "np.savetxt('/content/drive/My Drive/PBL2025/y_pred_mlp.csv', y_pred_test,delimiter=',')"
      ],
      "metadata": {
        "id": "fg1GtKYC0Fut"
      },
      "execution_count": 15,
      "outputs": []
    }
  ]
}