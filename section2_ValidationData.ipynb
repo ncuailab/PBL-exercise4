{
  "nbformat": 4,
  "nbformat_minor": 0,
  "metadata": {
    "colab": {
      "provenance": []
    },
    "kernelspec": {
      "name": "python3",
      "display_name": "Python 3"
    },
    "language_info": {
      "name": "python"
    }
  },
  "cells": [
    {
      "cell_type": "markdown",
      "source": [
        "前回は以下のことを学びました．\n",
        "\n",
        "pandasによるcsvの読み込みと簡単な操作（列・行へのアクセス，numpy.ndarrayへの変換）<br>\n",
        "sklearnの基本的な使い方<br>\n",
        "提出までの流れ：<br>\n",
        "1. 特徴ベクトルの作成\n",
        "2. モデル・アルゴリズムの選定，学習\n",
        "3. 予測\n",
        "4. 提出"
      ],
      "metadata": {
        "id": "hHB8vSl7xWAA"
      }
    },
    {
      "cell_type": "markdown",
      "source": [
        "#今回学ぶこと\n",
        "・検証データの作成(データ分割)<br>\n",
        "・検証用データを用いたモデルの投稿前の評価"
      ],
      "metadata": {
        "id": "DVWdMApXxPTe"
      }
    },
    {
      "cell_type": "markdown",
      "source": [
        "#(復習) データ読み込み\n",
        "前回と同様に，まずはデータの読み込みを行います． データの読み込みはpandasのread_csvで行えます． ライブラリを使うためにはimportする必要があります． 詳細は前回の資料を参照してください．"
      ],
      "metadata": {
        "id": "T5SCk9R_-AX-"
      }
    },
    {
      "cell_type": "code",
      "source": [
        "#データとモジュールの読み込み\n",
        "import numpy as np\n",
        "import pandas as pd\n",
        "# 機械学習のライブラリ．今回は線形回帰LinearRegressionを動かす．\n",
        "# LinearRegressionはsklearnのlinear_modelモジュールの中にあるので，次のようにインポートする\n",
        "from sklearn.linear_model import LinearRegression\n",
        "from google.colab import drive\n",
        "drive.mount('/content/drive') # google driveをマウント（＝Colabから使えるようにする）\n",
        "# Google Colabの場合\n",
        "d_train = pd.read_csv(\"/content/drive/My Drive/PBL2025/omni2_selected_2000_2024.csv\") # 訓練データを読み込む．TFがGoogle Driveの一番上にdataディレクトリを置いた場合はこのようなパスになった\n",
        "d_test = pd.read_csv(\"/content/drive/My Drive/PBL2025/omni2_selected_2025H1_Dst99999.csv\") # テストデータを読み込む． TFがGoogle Driveの一番上にdataディレクトリを置いた場合はこのようなパスになった"
      ],
      "metadata": {
        "colab": {
          "base_uri": "https://localhost:8080/"
        },
        "id": "4uSgHeyR9_dx",
        "outputId": "10deceb6-de42-4bb2-f2ab-b18d5487ac6f"
      },
      "execution_count": 4,
      "outputs": [
        {
          "output_type": "stream",
          "name": "stdout",
          "text": [
            "Drive already mounted at /content/drive; to attempt to forcibly remount, call drive.mount(\"/content/drive\", force_remount=True).\n"
          ]
        }
      ]
    },
    {
      "cell_type": "code",
      "source": [
        "#指定した列だけ取り出す\n",
        "xlist = [ 'Year', 'Month', 'Day_of_month','Hour[h]', 'B_mag[nT]','Bx_GSE[nT]', 'By_GSM[nT]','Bz_GSM[nT]', 'T_proton[K]', 'N_proton[cm^-3]', 'V_sw[km/s]',\n",
        "         'Flow_pressure[nPa]', 'E_field[mV/m]', 'Sunspot_num', 'f10.7[sfu]', 'Lyman_alpha[W/m^2]']\n",
        "         #colabの場合はReturnで改行できる\n",
        "ylist = ['Dst[nT]']\n",
        "x_train = d_train[xlist]\n",
        "y_train = d_train[ylist]\n",
        "x_test = d_test[xlist]\n",
        "y_test = d_test[ylist]\n"
      ],
      "metadata": {
        "id": "H7lsd-gb-Y1H"
      },
      "execution_count": 5,
      "outputs": []
    },
    {
      "cell_type": "markdown",
      "source": [
        "#過学習\n",
        "LinearRegressionのドキュメントを見れば分かりますが，normalizeなどユーザが設定できる項目があります．また、例えば訓練を行う列を選別する(例えば効果があるかはわかりませんが時刻の情報をいれないなど)、標準化やMinMaxScaleを行う(これはのちのsectionで説明)などの前処理の工夫も考えられます。\n",
        "\n",
        "しかし，一日の投稿回数が5回に制限されているため，全てのパターンを一日に投稿することはできません． 他にも多数の予測手法がありますし，今後，試行錯誤する要素はどんどん増加するため，毎回の予測結果を全て投稿して評価することは現実的ではありません． そこで，投稿せずに・投稿する前にモデルを評価することを考えます． 投稿する前にモデルの評価をして，悪そうなモデルの予測結果は投稿せず，良さそうな場合だけ投稿する，というのは妥当な戦略でしょう． また，コンペに限らず，モデルの事前の評価は機械学習手法の運用において常に非常に重要です． 機械学習を用いたサービスを考えた時に，とりあえず作ってみた予測モデルを本番環境で動かしてみるのは恐ろしいことでしょう． 本番環境で動かす前に一度評価して，良さそうであれば本番環境で動かすべきであるはずです．\n",
        "\n",
        "さて，それではどのように投稿せずに・投稿する前にモデルを評価すれば良いのでしょうか？ コンペのスコアは予測と正解を用いて計算されます（今回は平均二乗誤差）． 残念ながら，テストデータの正解はわかっていないので，実際にコンペサイトから返ってくるスコアと同じものを事前に計算することはできません．\n",
        "\n",
        "そこで，正解がわかっているデータ，すなわち訓練データについて予測を行って，誤差を計算して性能を見積もる，というのが考えられます． しかし，この方法には問題があります． モデルは訓練データの誤差を小さくするように学習しています． 非常に複雑なモデルを用いた時，訓練データに対する誤差をとにかく小さくしようとして（複雑なため，そのようなことが可能），その結果，訓練データに対して非常に精度の良い予測を行うが，訓練データに含まれないデータに対しては精度の低い予測を行ってしまう，ということがあります． このような現象・状態を過学習・過適合（overfitting）と言います． 過学習するモデルというのは驚くほど簡単に作れてしまうため，訓練データに対する誤差を用いてモデルを評価することは不適切です．"
      ],
      "metadata": {
        "id": "iiaQXPOGxlnu"
      }
    },
    {
      "cell_type": "markdown",
      "source": [
        "#検証データの作成と検証データを用いた評価\n",
        "そこで，正解のわかっているデータの一部を学習には用いず検証（評価）に用いるということを行います． このようなデータを訓練データ（訓練集合）に対して検証データ（検証集合，validation data, validation set)と言います．\n",
        "\n",
        "では実際にデータの分割をしてみましょう． まず，数値情報だけを用いたX_numについて行ってみます． とりあえずここでは，ラベル付きデータ全体のおよそ8割を訓練データ，残りを検証用とします． 特に，現在のラベル付きデータの前半8割を訓練データ，後ろの2割を検証データとします．"
      ],
      "metadata": {
        "id": "fpX0OInZ_fSv"
      }
    },
    {
      "cell_type": "code",
      "source": [
        "# 分割前に必ず定義\n",
        "n_train = len(x_train)\n",
        "n_valid = int(0.2 * n_train)  # 検証データの数．ラベル付きデータ数n_trainの2割を検証データにする\n",
        "n_train = n_train - n_valid # 訓練データ数を計算し直す．検証データ以外全てなので，全体（n_train)からn_validationを引く\n",
        "x_valid = x_train[n_train:] # 現在のX_train_numの後半2割 = 前半8割以降\n",
        "x_train = x_train[:n_train] # 現在のX_train_numの前半8割．再代入する（変数名を使い回す）\n",
        "\n",
        "# 目標値も同じように分割する\n",
        "y_valid = y_train[n_train:]\n",
        "y_train = y_train[:n_train]\n",
        "\n",
        "#あるいは以下のモジュールを使う\n",
        "#from sklearn.model_selection import train_test_split\n",
        "\n",
        "#x_train, x_valid, y_train, y_valid = train_test_split(\n",
        "    #x_train, y_train, test_size=0.2, shuffle=False  # 時系列なら False\n",
        "#)"
      ],
      "metadata": {
        "id": "4_EiNF5xMxFo"
      },
      "execution_count": 6,
      "outputs": []
    },
    {
      "cell_type": "code",
      "source": [
        "print(len(x_train),len(x_valid))\n",
        "print(len(y_train),len(y_valid))"
      ],
      "metadata": {
        "colab": {
          "base_uri": "https://localhost:8080/"
        },
        "id": "POJCJIgZOd2w",
        "outputId": "d616ac23-4f35-4c55-a49e-a1a0c94a60f4"
      },
      "execution_count": 7,
      "outputs": [
        {
          "output_type": "stream",
          "name": "stdout",
          "text": [
            "175335 43833\n",
            "175335 43833\n"
          ]
        }
      ]
    },
    {
      "cell_type": "markdown",
      "source": [
        "訓練データと検証データが8:2で分けられていることが確認できます。<br>\n",
        "検証データの統計的な情報も見てみましょう"
      ],
      "metadata": {
        "id": "qlai5HUjOz5Q"
      }
    },
    {
      "cell_type": "code",
      "source": [
        "y_valid.describe()"
      ],
      "metadata": {
        "colab": {
          "base_uri": "https://localhost:8080/",
          "height": 300
        },
        "id": "o87uHoVB4gBg",
        "outputId": "ebaed83a-6ea0-4da6-d05a-093e93834f8c"
      },
      "execution_count": 18,
      "outputs": [
        {
          "output_type": "execute_result",
          "data": {
            "text/plain": [
              "            Dst[nT]\n",
              "count  43833.000000\n",
              "mean      -9.425136\n",
              "std       19.408359\n",
              "min     -406.000000\n",
              "25%      -16.000000\n",
              "50%       -6.000000\n",
              "75%        1.000000\n",
              "max       71.000000"
            ],
            "text/html": [
              "\n",
              "  <div id=\"df-94f5d3f2-7532-4147-ad60-1d46f9968826\" class=\"colab-df-container\">\n",
              "    <div>\n",
              "<style scoped>\n",
              "    .dataframe tbody tr th:only-of-type {\n",
              "        vertical-align: middle;\n",
              "    }\n",
              "\n",
              "    .dataframe tbody tr th {\n",
              "        vertical-align: top;\n",
              "    }\n",
              "\n",
              "    .dataframe thead th {\n",
              "        text-align: right;\n",
              "    }\n",
              "</style>\n",
              "<table border=\"1\" class=\"dataframe\">\n",
              "  <thead>\n",
              "    <tr style=\"text-align: right;\">\n",
              "      <th></th>\n",
              "      <th>Dst[nT]</th>\n",
              "    </tr>\n",
              "  </thead>\n",
              "  <tbody>\n",
              "    <tr>\n",
              "      <th>count</th>\n",
              "      <td>43833.000000</td>\n",
              "    </tr>\n",
              "    <tr>\n",
              "      <th>mean</th>\n",
              "      <td>-9.425136</td>\n",
              "    </tr>\n",
              "    <tr>\n",
              "      <th>std</th>\n",
              "      <td>19.408359</td>\n",
              "    </tr>\n",
              "    <tr>\n",
              "      <th>min</th>\n",
              "      <td>-406.000000</td>\n",
              "    </tr>\n",
              "    <tr>\n",
              "      <th>25%</th>\n",
              "      <td>-16.000000</td>\n",
              "    </tr>\n",
              "    <tr>\n",
              "      <th>50%</th>\n",
              "      <td>-6.000000</td>\n",
              "    </tr>\n",
              "    <tr>\n",
              "      <th>75%</th>\n",
              "      <td>1.000000</td>\n",
              "    </tr>\n",
              "    <tr>\n",
              "      <th>max</th>\n",
              "      <td>71.000000</td>\n",
              "    </tr>\n",
              "  </tbody>\n",
              "</table>\n",
              "</div>\n",
              "    <div class=\"colab-df-buttons\">\n",
              "\n",
              "  <div class=\"colab-df-container\">\n",
              "    <button class=\"colab-df-convert\" onclick=\"convertToInteractive('df-94f5d3f2-7532-4147-ad60-1d46f9968826')\"\n",
              "            title=\"Convert this dataframe to an interactive table.\"\n",
              "            style=\"display:none;\">\n",
              "\n",
              "  <svg xmlns=\"http://www.w3.org/2000/svg\" height=\"24px\" viewBox=\"0 -960 960 960\">\n",
              "    <path d=\"M120-120v-720h720v720H120Zm60-500h600v-160H180v160Zm220 220h160v-160H400v160Zm0 220h160v-160H400v160ZM180-400h160v-160H180v160Zm440 0h160v-160H620v160ZM180-180h160v-160H180v160Zm440 0h160v-160H620v160Z\"/>\n",
              "  </svg>\n",
              "    </button>\n",
              "\n",
              "  <style>\n",
              "    .colab-df-container {\n",
              "      display:flex;\n",
              "      gap: 12px;\n",
              "    }\n",
              "\n",
              "    .colab-df-convert {\n",
              "      background-color: #E8F0FE;\n",
              "      border: none;\n",
              "      border-radius: 50%;\n",
              "      cursor: pointer;\n",
              "      display: none;\n",
              "      fill: #1967D2;\n",
              "      height: 32px;\n",
              "      padding: 0 0 0 0;\n",
              "      width: 32px;\n",
              "    }\n",
              "\n",
              "    .colab-df-convert:hover {\n",
              "      background-color: #E2EBFA;\n",
              "      box-shadow: 0px 1px 2px rgba(60, 64, 67, 0.3), 0px 1px 3px 1px rgba(60, 64, 67, 0.15);\n",
              "      fill: #174EA6;\n",
              "    }\n",
              "\n",
              "    .colab-df-buttons div {\n",
              "      margin-bottom: 4px;\n",
              "    }\n",
              "\n",
              "    [theme=dark] .colab-df-convert {\n",
              "      background-color: #3B4455;\n",
              "      fill: #D2E3FC;\n",
              "    }\n",
              "\n",
              "    [theme=dark] .colab-df-convert:hover {\n",
              "      background-color: #434B5C;\n",
              "      box-shadow: 0px 1px 3px 1px rgba(0, 0, 0, 0.15);\n",
              "      filter: drop-shadow(0px 1px 2px rgba(0, 0, 0, 0.3));\n",
              "      fill: #FFFFFF;\n",
              "    }\n",
              "  </style>\n",
              "\n",
              "    <script>\n",
              "      const buttonEl =\n",
              "        document.querySelector('#df-94f5d3f2-7532-4147-ad60-1d46f9968826 button.colab-df-convert');\n",
              "      buttonEl.style.display =\n",
              "        google.colab.kernel.accessAllowed ? 'block' : 'none';\n",
              "\n",
              "      async function convertToInteractive(key) {\n",
              "        const element = document.querySelector('#df-94f5d3f2-7532-4147-ad60-1d46f9968826');\n",
              "        const dataTable =\n",
              "          await google.colab.kernel.invokeFunction('convertToInteractive',\n",
              "                                                    [key], {});\n",
              "        if (!dataTable) return;\n",
              "\n",
              "        const docLinkHtml = 'Like what you see? Visit the ' +\n",
              "          '<a target=\"_blank\" href=https://colab.research.google.com/notebooks/data_table.ipynb>data table notebook</a>'\n",
              "          + ' to learn more about interactive tables.';\n",
              "        element.innerHTML = '';\n",
              "        dataTable['output_type'] = 'display_data';\n",
              "        await google.colab.output.renderOutput(dataTable, element);\n",
              "        const docLink = document.createElement('div');\n",
              "        docLink.innerHTML = docLinkHtml;\n",
              "        element.appendChild(docLink);\n",
              "      }\n",
              "    </script>\n",
              "  </div>\n",
              "\n",
              "\n",
              "    <div id=\"df-c7cfb672-5868-4f34-94dc-17e32e7da280\">\n",
              "      <button class=\"colab-df-quickchart\" onclick=\"quickchart('df-c7cfb672-5868-4f34-94dc-17e32e7da280')\"\n",
              "                title=\"Suggest charts\"\n",
              "                style=\"display:none;\">\n",
              "\n",
              "<svg xmlns=\"http://www.w3.org/2000/svg\" height=\"24px\"viewBox=\"0 0 24 24\"\n",
              "     width=\"24px\">\n",
              "    <g>\n",
              "        <path d=\"M19 3H5c-1.1 0-2 .9-2 2v14c0 1.1.9 2 2 2h14c1.1 0 2-.9 2-2V5c0-1.1-.9-2-2-2zM9 17H7v-7h2v7zm4 0h-2V7h2v10zm4 0h-2v-4h2v4z\"/>\n",
              "    </g>\n",
              "</svg>\n",
              "      </button>\n",
              "\n",
              "<style>\n",
              "  .colab-df-quickchart {\n",
              "      --bg-color: #E8F0FE;\n",
              "      --fill-color: #1967D2;\n",
              "      --hover-bg-color: #E2EBFA;\n",
              "      --hover-fill-color: #174EA6;\n",
              "      --disabled-fill-color: #AAA;\n",
              "      --disabled-bg-color: #DDD;\n",
              "  }\n",
              "\n",
              "  [theme=dark] .colab-df-quickchart {\n",
              "      --bg-color: #3B4455;\n",
              "      --fill-color: #D2E3FC;\n",
              "      --hover-bg-color: #434B5C;\n",
              "      --hover-fill-color: #FFFFFF;\n",
              "      --disabled-bg-color: #3B4455;\n",
              "      --disabled-fill-color: #666;\n",
              "  }\n",
              "\n",
              "  .colab-df-quickchart {\n",
              "    background-color: var(--bg-color);\n",
              "    border: none;\n",
              "    border-radius: 50%;\n",
              "    cursor: pointer;\n",
              "    display: none;\n",
              "    fill: var(--fill-color);\n",
              "    height: 32px;\n",
              "    padding: 0;\n",
              "    width: 32px;\n",
              "  }\n",
              "\n",
              "  .colab-df-quickchart:hover {\n",
              "    background-color: var(--hover-bg-color);\n",
              "    box-shadow: 0 1px 2px rgba(60, 64, 67, 0.3), 0 1px 3px 1px rgba(60, 64, 67, 0.15);\n",
              "    fill: var(--button-hover-fill-color);\n",
              "  }\n",
              "\n",
              "  .colab-df-quickchart-complete:disabled,\n",
              "  .colab-df-quickchart-complete:disabled:hover {\n",
              "    background-color: var(--disabled-bg-color);\n",
              "    fill: var(--disabled-fill-color);\n",
              "    box-shadow: none;\n",
              "  }\n",
              "\n",
              "  .colab-df-spinner {\n",
              "    border: 2px solid var(--fill-color);\n",
              "    border-color: transparent;\n",
              "    border-bottom-color: var(--fill-color);\n",
              "    animation:\n",
              "      spin 1s steps(1) infinite;\n",
              "  }\n",
              "\n",
              "  @keyframes spin {\n",
              "    0% {\n",
              "      border-color: transparent;\n",
              "      border-bottom-color: var(--fill-color);\n",
              "      border-left-color: var(--fill-color);\n",
              "    }\n",
              "    20% {\n",
              "      border-color: transparent;\n",
              "      border-left-color: var(--fill-color);\n",
              "      border-top-color: var(--fill-color);\n",
              "    }\n",
              "    30% {\n",
              "      border-color: transparent;\n",
              "      border-left-color: var(--fill-color);\n",
              "      border-top-color: var(--fill-color);\n",
              "      border-right-color: var(--fill-color);\n",
              "    }\n",
              "    40% {\n",
              "      border-color: transparent;\n",
              "      border-right-color: var(--fill-color);\n",
              "      border-top-color: var(--fill-color);\n",
              "    }\n",
              "    60% {\n",
              "      border-color: transparent;\n",
              "      border-right-color: var(--fill-color);\n",
              "    }\n",
              "    80% {\n",
              "      border-color: transparent;\n",
              "      border-right-color: var(--fill-color);\n",
              "      border-bottom-color: var(--fill-color);\n",
              "    }\n",
              "    90% {\n",
              "      border-color: transparent;\n",
              "      border-bottom-color: var(--fill-color);\n",
              "    }\n",
              "  }\n",
              "</style>\n",
              "\n",
              "      <script>\n",
              "        async function quickchart(key) {\n",
              "          const quickchartButtonEl =\n",
              "            document.querySelector('#' + key + ' button');\n",
              "          quickchartButtonEl.disabled = true;  // To prevent multiple clicks.\n",
              "          quickchartButtonEl.classList.add('colab-df-spinner');\n",
              "          try {\n",
              "            const charts = await google.colab.kernel.invokeFunction(\n",
              "                'suggestCharts', [key], {});\n",
              "          } catch (error) {\n",
              "            console.error('Error during call to suggestCharts:', error);\n",
              "          }\n",
              "          quickchartButtonEl.classList.remove('colab-df-spinner');\n",
              "          quickchartButtonEl.classList.add('colab-df-quickchart-complete');\n",
              "        }\n",
              "        (() => {\n",
              "          let quickchartButtonEl =\n",
              "            document.querySelector('#df-c7cfb672-5868-4f34-94dc-17e32e7da280 button');\n",
              "          quickchartButtonEl.style.display =\n",
              "            google.colab.kernel.accessAllowed ? 'block' : 'none';\n",
              "        })();\n",
              "      </script>\n",
              "    </div>\n",
              "\n",
              "    </div>\n",
              "  </div>\n"
            ],
            "application/vnd.google.colaboratory.intrinsic+json": {
              "type": "dataframe",
              "summary": "{\n  \"name\": \"y_valid\",\n  \"rows\": 8,\n  \"fields\": [\n    {\n      \"column\": \"Dst[nT]\",\n      \"properties\": {\n        \"dtype\": \"number\",\n        \"std\": 15515.48908483427,\n        \"min\": -406.0,\n        \"max\": 43833.0,\n        \"num_unique_values\": 8,\n        \"samples\": [\n          -9.425136312823671,\n          -6.0,\n          43833.0\n        ],\n        \"semantic_type\": \"\",\n        \"description\": \"\"\n      }\n    }\n  ]\n}"
            }
          },
          "metadata": {},
          "execution_count": 18
        }
      ]
    },
    {
      "cell_type": "markdown",
      "source": [
        "（復習）線形回帰の学習と予測\n",
        "sklearnを用いる基本的な手順は，\n",
        "\n",
        "モデルのインスタンスを作成<br>\n",
        "作成したモデルオブジェクトをfitメソッドを用いて学習．fitメソッドには訓練データの入力と目標値（つまり，行列とベクトル）を渡す．<br>\n",
        "学習したモデルを用いてpredictメソッドで予測．predictメソッドにはデータの入力（つまり行列）を渡す．<br>\n",
        "でした．以下のようにして実行できます．"
      ],
      "metadata": {
        "id": "A1vItt3lQahR"
      }
    },
    {
      "cell_type": "code",
      "source": [
        "# モデルの作成と予測\n",
        "lr = LinearRegression()# LinearRegressionのインスタンスの作成\n",
        "lr.fit(x_train, y_train)# 上で作ったオブジェクトの学習\n",
        "\n",
        "y_pred_valid = lr.predict(x_valid)#　検証データに対する予測"
      ],
      "metadata": {
        "id": "_jWCZJjUzzRT"
      },
      "execution_count": 8,
      "outputs": []
    },
    {
      "cell_type": "markdown",
      "source": [
        "では，線形回帰の検証データに対する予測y_pred_validと訓練データの目標値y_validの間で平均二乗誤差を計算してみます． 自分で実装しても良いですが，sklearnにmean_squared_errorという名前で既に実装されています． 以下のようにimportして使います． 詳しくは[ドキュメント]( https://scikit-learn.org/stable/modules/generated/sklearn.metrics.mean_squared_error.html )を読んでみてください．"
      ],
      "metadata": {
        "id": "fvW0gfRw6iuS"
      }
    },
    {
      "cell_type": "code",
      "source": [
        "from sklearn.metrics import mean_squared_error\n",
        "mse_valid_lr = mean_squared_error(y_valid, y_pred_valid) # 最初の引数に目標値（正解），次に予測を入れるとスコアが返ってくる\n",
        "print(f\"線形回帰の平均二乗誤差：{mse_valid_lr}\")"
      ],
      "metadata": {
        "id": "FxP2WPOj2P7g",
        "colab": {
          "base_uri": "https://localhost:8080/"
        },
        "outputId": "febd8462-ec54-4611-8006-c7078b615dac"
      },
      "execution_count": 17,
      "outputs": [
        {
          "output_type": "stream",
          "name": "stdout",
          "text": [
            "線形回帰の平均二乗誤差：1128.4542698189252\n"
          ]
        }
      ]
    },
    {
      "cell_type": "markdown",
      "source": [
        "平均二乗誤差が千を超えており、RMSEにすると√1128.45 = 33.6となります。\n",
        "データの標準偏差= 19.4よりも悪いので予測が全く当たっていないといえます。<br>\n",
        "対象が自然現象なので限りなくスコアをゼロに近づけるのは困難ですが、まずは様々なモデルやパラメータ、データの前処理を試してデータのばらつき（19.4^2 = 376）を下回ることを目指し増ましょう.\n"
      ],
      "metadata": {
        "id": "556c_abq0O9y"
      }
    },
    {
      "cell_type": "markdown",
      "source": [
        "#予測結果の視覚化\n",
        "実際にどれくらいずれているか視覚的にも確認しよう. 今回はx軸(連番)を定義してプロットしました."
      ],
      "metadata": {
        "id": "Ba3rJuuy3piB"
      }
    },
    {
      "cell_type": "code",
      "source": [
        "import matplotlib.pyplot as plt\n",
        "xplot = np.arange(n_valid) # 0,1,2...n_valid-1のような配列になる\n",
        "plt.figure(figsize=(10,5)) #figsize => (x,y)の図のサイズ\n",
        "plt.plot(xplot,y_valid,label=\"data\") #label; 凡例の文字\n",
        "plt.plot(xplot,y_pred_valid,label=\"model\")\n",
        "plt.legend() #凡例を表示\n",
        "plt.show()"
      ],
      "metadata": {
        "colab": {
          "base_uri": "https://localhost:8080/",
          "height": 445
        },
        "id": "w9eN4BJtST4j",
        "outputId": "77ee2035-afb0-4d64-d425-148d28d9c798"
      },
      "execution_count": 16,
      "outputs": [
        {
          "output_type": "display_data",
          "data": {
            "text/plain": [
              "<Figure size 1000x500 with 1 Axes>"
            ],
            "image/png": "[encoded data removed]"
          },
          "metadata": {}
        }
      ]
    },
    {
      "cell_type": "code",
      "source": [
        "#np.savetxt('/content/drive/My Drive/PBL2025/y_pred__lr.csv', y_pred_test,delimiter=',')\n",
        "#ファイル名と保存したいnumpy配列、区切り文字の順に入力\n",
        "#delimiter:区切り文字を指定します。CSVの場合は`,`を指定します。"
      ],
      "metadata": {
        "id": "iJjD4KrS_duh"
      },
      "execution_count": 11,
      "outputs": []
    }
  ]
}