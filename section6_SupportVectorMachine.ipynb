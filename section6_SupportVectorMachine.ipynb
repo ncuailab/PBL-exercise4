{
  "nbformat": 4,
  "nbformat_minor": 0,
  "metadata": {
    "colab": {
      "provenance": [],
      "gpuType": "T4"
    },
    "kernelspec": {
      "name": "python3",
      "display_name": "Python 3"
    },
    "language_info": {
      "name": "python"
    },
    "accelerator": "GPU"
  },
  "cells": [
    {
      "cell_type": "code",
      "source": [
        "import tensorflow as tf\n",
        "print(\"GPU is\", \"available\" if tf.config.list_physical_devices('GPU') else \"NOT AVAILABLE\")\n"
      ],
      "metadata": {
        "colab": {
          "base_uri": "https://localhost:8080/"
        },
        "id": "sJjz_f8PoTva",
        "outputId": "14f8cbc5-e91f-4179-a4bd-c8aeb6d49762"
      },
      "execution_count": 1,
      "outputs": [
        {
          "output_type": "stream",
          "name": "stdout",
          "text": [
            "GPU is available\n"
          ]
        }
      ]
    },
    {
      "cell_type": "code",
      "execution_count": 2,
      "metadata": {
        "colab": {
          "base_uri": "https://localhost:8080/"
        },
        "id": "lYH6t1UjwXy2",
        "outputId": "dad7ecab-d069-4e16-f81a-9482b52c4f19"
      },
      "outputs": [
        {
          "output_type": "stream",
          "name": "stdout",
          "text": [
            "Mounted at /content/drive\n"
          ]
        }
      ],
      "source": [
        "#データとモジュールの読み込み\n",
        "import numpy as np\n",
        "import pandas as pd\n",
        "# 機械学習のライブラリ．今回は線形回帰LinearRegressionを動かす．\n",
        "# LinearRegressionはsklearnのlinear_modelモジュールの中にあるので，次のようにインポートする\n",
        "from sklearn.linear_model import LinearRegression\n",
        "from google.colab import drive\n",
        "drive.mount('/content/drive') # google driveをマウント（＝Colabから使えるようにする）\n",
        "# Google Colabの場合\n",
        "d_train = pd.read_csv(\"/content/drive/My Drive/PBL2025/omni2_selected_2000_2024.csv\") # 訓練データを読み込む\n",
        "d_test = pd.read_csv(\"/content/drive/My Drive/PBL2025/omni2_selected_2025H1_Dst99999.csv\") # テストデータを読み込む"
      ]
    },
    {
      "cell_type": "code",
      "source": [
        "#指定した列だけ取り出す\n",
        "xlist = [ 'Year', 'Month', 'Day_of_month','Hour[h]', 'B_mag[nT]','Bx_GSE[nT]', 'By_GSM[nT]','Bz_GSM[nT]', 'T_proton[K]', 'N_proton[cm^-3]', 'V_sw[km/s]',\n",
        "         'Flow_pressure[nPa]', 'E_field[mV/m]', 'Sunspot_num', 'f10.7[sfu]', 'Lyman_alpha[W/m^2]']\n",
        "         #colabの場合はReturnで改行できる\n",
        "ylist = ['Dst[nT]']\n",
        "x_train = d_train[xlist]\n",
        "y_train = d_train[ylist]\n",
        "x_test = d_test[xlist]\n",
        "y_test = d_test[ylist]"
      ],
      "metadata": {
        "id": "kwO67HejwZ1a"
      },
      "execution_count": 3,
      "outputs": []
    },
    {
      "cell_type": "code",
      "source": [
        "#訓練データに新しい特徴量を追加\n",
        "x_train['Bz_lag6'] = x_train['Bz_GSM[nT]'].shift(6)\n",
        "x_train['Bz_diff6'] = x_train['Bz_GSM[nT]'] - x_train['Bz_GSM[nT]'].shift(6)\n",
        "x_train['Bz_ma3'] = x_train['Bz_GSM[nT]'].rolling(3).mean()\n",
        "x_train['Ef_lag6'] = x_train['E_field[mV/m]'].shift(6)\n",
        "x_train['Ef_diff6'] = x_train['E_field[mV/m]'] - x_train['E_field[mV/m]'].shift(6)\n",
        "x_train['Ef_ma3'] = x_train['E_field[mV/m]'].rolling(3).mean()\n",
        "#テストデータに追加\n",
        "#Add new feature\n",
        "x_test['Bz_lag6'] = x_test['Bz_GSM[nT]'].shift(6)\n",
        "x_test['Bz_diff6'] = x_test['Bz_GSM[nT]'] - x_test['Bz_GSM[nT]'].shift(6)\n",
        "x_test['Bz_ma3'] = x_test['Bz_GSM[nT]'].rolling(3).mean()\n",
        "x_test['Ef_lag6'] = x_test['E_field[mV/m]'].shift(6)\n",
        "x_test['Ef_diff6'] = x_test['E_field[mV/m]'] - x_test['E_field[mV/m]'].shift(6)\n",
        "x_test['Ef_ma3'] = x_test['E_field[mV/m]'].rolling(3).mean()"
      ],
      "metadata": {
        "id": "Wjk5ztbgwb5a"
      },
      "execution_count": 4,
      "outputs": []
    },
    {
      "cell_type": "code",
      "source": [
        "x_train = x_train.bfill() #ひとつ前のデータで補間\n",
        "x_test = x_test.bfill()"
      ],
      "metadata": {
        "id": "IwsIdw_UwezK"
      },
      "execution_count": 5,
      "outputs": []
    },
    {
      "cell_type": "code",
      "source": [
        "# 分割前に必ず定義\n",
        "n_train = len(x_train)\n",
        "n_valid = int(0.2 * n_train)  # 検証データの数．ラベル付きデータ数n_trainの2割を検証データにする\n",
        "n_train = n_train - n_valid # 訓練データ数を計算し直す．検証データ以外全てなので，全体（n_train)からn_validationを引く\n",
        "x_valid = x_train[n_train:] # 現在のX_train_numの後半2割 = 前半8割以降\n",
        "x_train = x_train[:n_train] # 現在のX_train_numの前半8割．再代入する（変数名を使い回す）\n",
        "\n",
        "# 目標値も同じように分割する\n",
        "y_valid = y_train[n_train:]\n",
        "y_train = y_train[:n_train]"
      ],
      "metadata": {
        "id": "b146fCjxwh7D"
      },
      "execution_count": 6,
      "outputs": []
    },
    {
      "cell_type": "code",
      "source": [
        "from sklearn.preprocessing import StandardScaler\n",
        "from sklearn.linear_model import Ridge\n",
        "\n",
        "scaler = StandardScaler()\n",
        "x_train_scaled = scaler.fit_transform(x_train)\n",
        "x_valid_scaled = scaler.transform(x_valid)\n",
        "x_test_scaled = scaler.transform(x_test)"
      ],
      "metadata": {
        "id": "T0xnyBCqwklp"
      },
      "execution_count": 7,
      "outputs": []
    },
    {
      "cell_type": "markdown",
      "source": [
        "軽量な線形版（高速ベースライン）です。"
      ],
      "metadata": {
        "id": "TftTGlfzjFDP"
      }
    },
    {
      "cell_type": "code",
      "source": [
        "from sklearn.svm import SVR\n",
        "from sklearn.metrics import mean_squared_error\n",
        "import numpy as np\n",
        "\n",
        "# SVR（RBFカーネル）\n",
        "svr = SVR(\n",
        "    kernel=\"rbf\",\n",
        "    C=10.0,            # 正則化（大きいほど当てに行く）\n",
        "    epsilon=0.1,       # イプシロン不感帯\n",
        "    gamma=\"scale\",     # RBF幅はデータから自動推定\n",
        "    cache_size=500     # カーネルキャッシュ(MB)で高速化\n",
        ")\n",
        "\n",
        "# 学習\n",
        "svr.fit(x_train_scaled, np.ravel(y_train.values))\n",
        "\n",
        "# 予測\n",
        "y_pred = svr.predict(x_valid_scaled)\n",
        "\n",
        "# MSE\n",
        "mse = mean_squared_error(y_valid, y_pred)\n",
        "print(\"MSE:\", mse)\n"
      ],
      "metadata": {
        "id": "cer9711qyNoF"
      },
      "execution_count": null,
      "outputs": []
    },
    {
      "cell_type": "code",
      "source": [
        "#モジュールの読み込み\n",
        "from sklearn.linear_model import LinearRegression\n",
        "\n",
        "# 通常の線形モデルの作成と予測\n",
        "lr = LinearRegression()# LinearRegressionのインスタンスの作成\n",
        "lr.fit(x_train, y_train)# 上で作ったオブジェクトの学習\n",
        "y_pred_valid_lr = lr.predict(x_valid)#　検証データに対する予測\n",
        "\n",
        "import matplotlib.pyplot as plt\n",
        "xplot = np.arange(n_valid) # 0,1,2...n_valid-1のような配列になる\n",
        "plt.figure(figsize=(10,5)) #figsize => (x,y)の図のサイズ\n",
        "plt.plot(xplot,y_pred_valid_lr,label=\"linear\") #label; 凡例の文字\n",
        "plt.plot(xplot,y_pred_valid,label=\"hgb\") #label; 凡例の文字\n",
        "plt.plot(xplot,y_valid,label=\"data\")\n",
        "plt.legend() #凡例を表示\n",
        "plt.show()"
      ],
      "metadata": {
        "id": "5NxwEK0vbtLl"
      },
      "execution_count": null,
      "outputs": []
    },
    {
      "cell_type": "code",
      "source": [
        "#テストデータの予測と提出\n",
        "y_pred_test = svr.predict(x_test_scaled)\n",
        "np.savetxt('/content/drive/My Drive/PBL2025/y_pred_svr.csv', y_pred_test,delimiter=',')"
      ],
      "metadata": {
        "id": "fg1GtKYC0Fut"
      },
      "execution_count": null,
      "outputs": []
    },
    {
      "cell_type": "markdown",
      "source": [
        "試しにやった結果ランタイム切れになりますが、通常版も載せます。"
      ],
      "metadata": {
        "id": "2zl9KtVkiyVG"
      }
    },
    {
      "cell_type": "code",
      "source": [
        "from sklearn.svm import SVR\n",
        "from sklearn.metrics import mean_squared_error\n",
        "import numpy as np\n",
        "\n",
        "# SVR（RBFカーネル）\n",
        "svr = SVR(\n",
        "    kernel=\"rbf\",\n",
        "    C=10.0,            # 正則化（大きいほど当てに行く）\n",
        "    epsilon=0.1,       # イプシロン不感帯\n",
        "    gamma=\"scale\",     # RBF幅はデータから自動推定\n",
        "    cache_size=500     # カーネルキャッシュ(MB)で高速化\n",
        ")\n",
        "\n",
        "# 学習\n",
        "svr.fit(x_train_scaled, np.ravel(y_train.values))\n",
        "\n",
        "# 予測\n",
        "y_pred_valid = svr.predict(x_valid_scaled)\n",
        "\n",
        "# MSE\n",
        "mse = mean_squared_error(y_valid, y_pred)\n",
        "print(\"MSE:\", mse)\n"
      ],
      "metadata": {
        "id": "AXYK2DORwnAO"
      },
      "execution_count": null,
      "outputs": []
    }
  ]
}