{
  "nbformat": 4,
  "nbformat_minor": 0,
  "metadata": {
    "colab": {
      "provenance": []
    },
    "kernelspec": {
      "name": "python3",
      "display_name": "Python 3"
    },
    "language_info": {
      "name": "python"
    }
  },
  "cells": [
    {
      "cell_type": "markdown",
      "source": [
        "#データ読み込み<br>\n",
        "演習で用いるデータはcsvファイル（comma-separated valuesファイル）で表現されています． Pythonの標準の機能を使って読み込んでも良いのですが，Pythonにはpandasというデータ解析のための便利なライブラリがあります． pandasによって，CSVを含む様々なファイルを簡単に読み込み，さらに読み込んだデータに対して様々な処理を簡単に行うことができます．\n",
        "\n",
        "なお，今回は文字列の情報を含んでいるためpandasを用いますが，数値情報だけであれば，Pythonにおける数値・行列・線形代数計算ライブラリのNumPyで読み込んで処理するほうが楽であることも多いです（NumPyについては，section0_2_how_to_numpyを参照）． また，scikit-learnの関数には，NumPyの配列を前提とするものやNumPyの配列を返すものも数多くあり、計算も高速になります。\n",
        "一方でnumpyとして扱う場合は列名やインデックスが失われるため、特徴量の意味が分かりにくくなったり、モデルの解釈をするときに「どの列がどの特徴量か」が分からなくなってしまいます。速度やメモリを極限まで追う場合と特徴量名を追いたい、可視化したい場合でnumpyとpandasを使い分けましょう。\n",
        "\n",
        "まず，今回使うものをimport（=C言語で言うところのincludeだと思ってください）をしましょう．"
      ],
      "metadata": {
        "id": "NL76EAGxR4Fq"
      }
    },
    {
      "cell_type": "code",
      "execution_count": 18,
      "metadata": {
        "id": "6kWu1B0X5yeu"
      },
      "outputs": [],
      "source": [
        "import numpy as np\n",
        "import pandas as pd\n",
        "# 機械学習のライブラリ．今回は線形回帰LinearRegressionを動かす．\n",
        "# LinearRegressionはsklearnのlinear_modelモジュールの中にあるので，次のようにインポートする\n",
        "from sklearn.linear_model import LinearRegression"
      ]
    },
    {
      "cell_type": "markdown",
      "source": [
        "上のセルを動かしましたか？その際に特にエラーが出なければ，インポートに成功しています． これ以降皆さんはnumpy，pandas，そしてsklearn.linear_modelのLinearRegressionが使えるようになりました！\n",
        "\n",
        "では，次は訓練データとテストデータを読み込みます． csvファイルは，pandasのread_csvという関数を使って読み込むことができます． ファイルのパスを引数として渡すと，pandas.DataFrameという型で（オブジェクト指向言語なので，「pandas.DataFrameクラスのインスタンスを作成して」とも言える）読み込んだものを返してくれます． 詳細は公式のドキュメント( https://pandas.pydata.org/pandas-docs/stable/reference/api/pandas.read_csv.html ) を参照してください． では実際に動かしてみます．\n",
        "\n",
        "このノートブックを動かしているディレクトリにdataディレクトリがあり，その中にtrain.csvとtest.csvが存在していると仮定しています． そうでない場合は適宜書き換えてください．\n",
        "\n",
        "Goole Colabを用いている場合，Google Driveにdataフォルダを置いて，次のセルのコメントアウトを外して動かしてください（自身のPython環境で動かしている場合は，次のセルは飛ばして良いです）．次のセルを動かした後，以下の手順を踏むことでGoogle Driveのデータを読み込むことができるようになります．\n",
        "\n",
        "・ 以下のセルを動かすと，URLが出てくるのでそこにアクセスしてください．<br>\n",
        "・ グーグルアカウントのログインが求められるので，ログインしてください．<br>\n",
        "・ authorization codeが表示されるので，それを貼り付けてください．<br>\n",
        "・ 更にその下のセルのread_csvで指定されているパスを適宜書き換えてください．<br>\n",
        "画面左側のバーで「フォルダ」のタブを選ぶと\"drive\"というフォルダが出てくると思いますが，そこがGoogle Driveを表しています．そこを見て適宜パスを書き換えてください．"
      ],
      "metadata": {
        "id": "OwwwBCsnZx9D"
      }
    },
    {
      "cell_type": "code",
      "source": [
        "from google.colab import drive\n",
        "drive.mount('/content/drive') # google driveをマウント（＝Colabから使えるようにする）"
      ],
      "metadata": {
        "colab": {
          "base_uri": "https://localhost:8080/"
        },
        "id": "YJm6D71D6MPa",
        "outputId": "da2f042b-6753-4826-cb36-a99b44e23ba9"
      },
      "execution_count": 19,
      "outputs": [
        {
          "output_type": "stream",
          "name": "stdout",
          "text": [
            "Drive already mounted at /content/drive; to attempt to forcibly remount, call drive.mount(\"/content/drive\", force_remount=True).\n"
          ]
        }
      ]
    },
    {
      "cell_type": "code",
      "source": [
        "# 動的型付け言語なので，変数の型の宣言は不要\n",
        "# Google Colabの場合\n",
        "d_train = pd.read_csv(\"/content/drive/My Drive/PBL2025/omni2_selected_2000_2024.csv\") # 訓練データを読み込む．TFがGoogle Driveの一番上にdataディレクトリを置いた場合はこのようなパスになった\n",
        "d_test = pd.read_csv(\"/content/drive/My Drive/PBL2025/omni2_selected_2025H1_Dst99999.csv\") # テストデータを読み込む． TFがGoogle Driveの一番上にdataディレクトリを置いた場合はこのようなパスになった\n",
        "# Jupyter Notebook の場合\n",
        "#d_train = pd.read_csv(\"data/omni2_selected_2000_2024.csv\") # 訓練データを読み込む\n",
        "#d_test = pd.read_csv(\"data/omni2_selected_2025H1_Dst99999.csv\") # テストデータを読み込む"
      ],
      "metadata": {
        "id": "3IackZ_s67vb"
      },
      "execution_count": 20,
      "outputs": []
    },
    {
      "cell_type": "markdown",
      "source": [
        "エラーが何も出ていなければ読み込めています．しかし言われるがまま読み込んだだけでどうなっているのかよくわかりませんね．読み込んだデータの内容をprintで確認してみましょう."
      ],
      "metadata": {
        "id": "MRqHf-PjW39U"
      }
    },
    {
      "cell_type": "code",
      "source": [
        "print(\"訓練データ\")\n",
        "print(d_train)\n",
        "print(\"\\nテストデータ\")\n",
        "print(d_test)"
      ],
      "metadata": {
        "colab": {
          "base_uri": "https://localhost:8080/"
        },
        "id": "u3tf98Iy9UZK",
        "outputId": "3b061db5-7be1-4d68-b60f-050195de0a61"
      },
      "execution_count": 21,
      "outputs": [
        {
          "output_type": "stream",
          "name": "stdout",
          "text": [
            "訓練データ\n",
            "        Year  Month  Day_of_month  Hour[h]  B_mag[nT]  Bx_GSE[nT]  By_GSM[nT]  \\\n",
            "0       2000      1             1        0        7.5        -5.6         2.2   \n",
            "1       2000      1             1        1        7.8        -4.9         4.7   \n",
            "2       2000      1             1        2        7.6        -2.7         5.3   \n",
            "3       2000      1             1        3        7.4        -3.9         3.3   \n",
            "4       2000      1             1        4        7.0        -3.5         1.9   \n",
            "...      ...    ...           ...      ...        ...         ...         ...   \n",
            "219163  2024     12            31       19       23.8       -13.8        18.4   \n",
            "219164  2024     12            31       20       23.3       -10.5        18.0   \n",
            "219165  2024     12            31       21       20.6        -8.4        18.1   \n",
            "219166  2024     12            31       22       19.3        -8.3        16.2   \n",
            "219167  2024     12            31       23       15.6        -6.4        13.4   \n",
            "\n",
            "        Bz_GSM[nT]  T_proton[K]  N_proton[cm^-3]  V_sw[km/s]  \\\n",
            "0              1.6     324194.0              2.9       675.0   \n",
            "1             -2.7     302235.0              2.6       677.0   \n",
            "2             -1.6     349786.0              2.2       708.0   \n",
            "3             -2.3     362297.0              2.1       706.0   \n",
            "4             -1.2     429384.0              2.0       721.0   \n",
            "...            ...          ...              ...         ...   \n",
            "219163        -2.5     207053.0             18.2       410.0   \n",
            "219164        -7.4     150655.0             18.6       443.0   \n",
            "219165        -4.4     159886.0             23.2       448.0   \n",
            "219166        -5.7     101127.0             22.2       444.0   \n",
            "219167        -3.1      83089.0             24.6       443.0   \n",
            "\n",
            "        Flow_pressure[nPa]  E_field[mV/m]  Sunspot_num  f10.7[sfu]  \\\n",
            "0                     2.64          -1.08           71       125.6   \n",
            "1                     2.38           1.83           71       125.6   \n",
            "2                     2.21           1.13           71       125.6   \n",
            "3                     2.09           1.62           71       125.6   \n",
            "4                     2.08           0.87           71       125.6   \n",
            "...                    ...            ...          ...         ...   \n",
            "219163                6.12           1.02          179       210.4   \n",
            "219164                7.30           3.28          179       210.4   \n",
            "219165                9.31           1.97          179       210.4   \n",
            "219166                8.75           2.53          179       210.4   \n",
            "219167                9.66           1.37          179       210.4   \n",
            "\n",
            "        Lyman_alpha[W/m^2]  Dst[nT]  \n",
            "0                 0.007890      -45  \n",
            "1                 0.007890      -37  \n",
            "2                 0.007890      -37  \n",
            "3                 0.007890      -41  \n",
            "4                 0.007890      -45  \n",
            "...                    ...      ...  \n",
            "219163            0.009535        7  \n",
            "219164            0.009535       -6  \n",
            "219165            0.009535      -18  \n",
            "219166            0.009535      -23  \n",
            "219167            0.009535      -22  \n",
            "\n",
            "[219168 rows x 17 columns]\n",
            "\n",
            "テストデータ\n",
            "      Year  Month  Day_of_month  Hour[h]  B_mag[nT]  Bx_GSE[nT]  By_GSM[nT]  \\\n",
            "0     2025      1             1        0       13.6        -7.7        10.1   \n",
            "1     2025      1             1        1       12.6        -8.9         8.1   \n",
            "2     2025      1             1        2        8.2        -4.4         4.2   \n",
            "3     2025      1             1        3       17.7         0.1        17.4   \n",
            "4     2025      1             1        4       18.2        -6.0         7.2   \n",
            "...    ...    ...           ...      ...        ...         ...         ...   \n",
            "4339  2025      6            30       19        5.2         2.2        -3.8   \n",
            "4340  2025      6            30       20        5.8         3.3        -4.2   \n",
            "4341  2025      6            30       21        5.7         4.1        -0.6   \n",
            "4342  2025      6            30       22        6.2         4.5        -0.8   \n",
            "4343  2025      6            30       23        6.4         3.7        -1.6   \n",
            "\n",
            "      Bz_GSM[nT]  T_proton[K]  N_proton[cm^-3]  V_sw[km/s]  \\\n",
            "0           -1.0     178561.0             19.6       427.0   \n",
            "1           -3.2      98035.0             16.8       446.0   \n",
            "2           -2.9     130848.0             22.3       434.0   \n",
            "3           -1.1     140511.0             20.0       454.0   \n",
            "4           -8.3     131587.0             31.9       482.0   \n",
            "...          ...          ...              ...         ...   \n",
            "4339         0.4     354220.0              3.2       501.0   \n",
            "4340         0.7     309524.0              3.3       496.0   \n",
            "4341        -3.5     229433.0              3.2       478.0   \n",
            "4342        -3.1     200794.0              3.0       475.0   \n",
            "4343        -3.8     197407.0              3.7       486.0   \n",
            "\n",
            "      Flow_pressure[nPa]  E_field[mV/m]  Sunspot_num  f10.7[sfu]  \\\n",
            "0                   6.66           0.43          198       211.9   \n",
            "1                   6.07           1.43          198       211.9   \n",
            "2                   7.77           1.26          198       211.9   \n",
            "3                   7.46           0.50          198       211.9   \n",
            "4                  13.76           4.00          198       211.9   \n",
            "...                  ...            ...          ...         ...   \n",
            "4339                1.53          -0.20          153       132.5   \n",
            "4340                1.51          -0.35          153       132.5   \n",
            "4341                1.39           1.67          153       132.5   \n",
            "4342                1.28           1.47          153       132.5   \n",
            "4343                1.66           1.85          153       132.5   \n",
            "\n",
            "      Lyman_alpha[W/m^2]  Dst[nT]  \n",
            "0               0.009568    99999  \n",
            "1               0.009568    99999  \n",
            "2               0.009568    99999  \n",
            "3               0.009568    99999  \n",
            "4               0.009568    99999  \n",
            "...                  ...      ...  \n",
            "4339            0.008090    99999  \n",
            "4340            0.008090    99999  \n",
            "4341            0.008090    99999  \n",
            "4342            0.008090    99999  \n",
            "4343            0.008090    99999  \n",
            "\n",
            "[4344 rows x 17 columns]\n"
          ]
        }
      ]
    },
    {
      "cell_type": "markdown",
      "source": [
        "csvファイルの中身が出てきました！すばらしいですね． 詳細はスライドを確認してほしいですが，この行列は，各行がある時刻のデータに対応しています． 各列はの太陽活動や磁気圏に関する何らかの情報を表していて，各列がどのような情報なのかはヘッダーに書かれています． たとえば，1-3列目は\"Year\"\"Month\"\"Day_of_month\"と書かれているので，これらは日付の情報ですね． 訓練データの最後の列は\"DsT[nT]\"と書かれており，これはまさしく目標値（出力・教師情報）です．\n",
        "\n",
        "テストデータにDsT[nT]の列はありますが、すべて99999となっていてダミーであることがわかります.この列の値を予測して，その予測の正確さで皆さんに競っていただくのがこのコンペティションです．"
      ],
      "metadata": {
        "id": "LIks7ksIbdPL"
      }
    },
    {
      "cell_type": "markdown",
      "source": [
        "特徴量ベクトルを作るために各列や行を取り出してみましょう．\n",
        "\n",
        "列を取り出すのは非常に簡単で，他のプログラミング言語で配列の要素にアクセスするのと同じようにブラケット（角括弧）を用います．具体的には，\n",
        "\n",
        "d_train[列の名前]\n",
        "\n",
        "とすることで取り出せます．また，複数の列を取り出すことは，\n",
        "\n",
        "d_train[列の名前のリスト]\n",
        "\n",
        "でできます（\"取り出す\"と言っていますが，元のDataFrameから消えるわけではありません）．以下のセルで実際にやってみましょう．"
      ],
      "metadata": {
        "id": "9sgyffVFc8od"
      }
    },
    {
      "cell_type": "code",
      "source": [
        "#指定した列だけ取り出す\n",
        "xlist = ['B_mag[nT]','Bx_GSE[nT]', 'By_GSM[nT]','Bz_GSM[nT]', 'T_proton[K]', 'N_proton[cm^-3]', 'V_sw[km/s]',\n",
        "         'Flow_pressure[nPa]', 'E_field[mV/m]', 'Sunspot_num', 'f10.7[sfu]', 'Lyman_alpha[W/m^2]']\n",
        "         #colabの場合はReturnで改行できる\n",
        "ylist = ['Dst[nT]']\n",
        "x_train = d_train[xlist]\n",
        "y_train = d_train[ylist]\n",
        "x_test = d_test[xlist]\n",
        "y_test = d_test[ylist]\n",
        "#訓練データのみプリント\n",
        "print(x_train)\n",
        "print(d_train)"
      ],
      "metadata": {
        "colab": {
          "base_uri": "https://localhost:8080/"
        },
        "id": "1S4XoVoT9gAA",
        "outputId": "06bf2d25-983a-4264-98cc-0ff1f04f644c"
      },
      "execution_count": 22,
      "outputs": [
        {
          "output_type": "stream",
          "name": "stdout",
          "text": [
            "        B_mag[nT]  Bx_GSE[nT]  By_GSM[nT]  Bz_GSM[nT]  T_proton[K]  \\\n",
            "0             7.5        -5.6         2.2         1.6     324194.0   \n",
            "1             7.8        -4.9         4.7        -2.7     302235.0   \n",
            "2             7.6        -2.7         5.3        -1.6     349786.0   \n",
            "3             7.4        -3.9         3.3        -2.3     362297.0   \n",
            "4             7.0        -3.5         1.9        -1.2     429384.0   \n",
            "...           ...         ...         ...         ...          ...   \n",
            "219163       23.8       -13.8        18.4        -2.5     207053.0   \n",
            "219164       23.3       -10.5        18.0        -7.4     150655.0   \n",
            "219165       20.6        -8.4        18.1        -4.4     159886.0   \n",
            "219166       19.3        -8.3        16.2        -5.7     101127.0   \n",
            "219167       15.6        -6.4        13.4        -3.1      83089.0   \n",
            "\n",
            "        N_proton[cm^-3]  V_sw[km/s]  Flow_pressure[nPa]  E_field[mV/m]  \\\n",
            "0                   2.9       675.0                2.64          -1.08   \n",
            "1                   2.6       677.0                2.38           1.83   \n",
            "2                   2.2       708.0                2.21           1.13   \n",
            "3                   2.1       706.0                2.09           1.62   \n",
            "4                   2.0       721.0                2.08           0.87   \n",
            "...                 ...         ...                 ...            ...   \n",
            "219163             18.2       410.0                6.12           1.02   \n",
            "219164             18.6       443.0                7.30           3.28   \n",
            "219165             23.2       448.0                9.31           1.97   \n",
            "219166             22.2       444.0                8.75           2.53   \n",
            "219167             24.6       443.0                9.66           1.37   \n",
            "\n",
            "        Sunspot_num  f10.7[sfu]  Lyman_alpha[W/m^2]  \n",
            "0                71       125.6            0.007890  \n",
            "1                71       125.6            0.007890  \n",
            "2                71       125.6            0.007890  \n",
            "3                71       125.6            0.007890  \n",
            "4                71       125.6            0.007890  \n",
            "...             ...         ...                 ...  \n",
            "219163          179       210.4            0.009535  \n",
            "219164          179       210.4            0.009535  \n",
            "219165          179       210.4            0.009535  \n",
            "219166          179       210.4            0.009535  \n",
            "219167          179       210.4            0.009535  \n",
            "\n",
            "[219168 rows x 12 columns]\n",
            "        Year  Month  Day_of_month  Hour[h]  B_mag[nT]  Bx_GSE[nT]  By_GSM[nT]  \\\n",
            "0       2000      1             1        0        7.5        -5.6         2.2   \n",
            "1       2000      1             1        1        7.8        -4.9         4.7   \n",
            "2       2000      1             1        2        7.6        -2.7         5.3   \n",
            "3       2000      1             1        3        7.4        -3.9         3.3   \n",
            "4       2000      1             1        4        7.0        -3.5         1.9   \n",
            "...      ...    ...           ...      ...        ...         ...         ...   \n",
            "219163  2024     12            31       19       23.8       -13.8        18.4   \n",
            "219164  2024     12            31       20       23.3       -10.5        18.0   \n",
            "219165  2024     12            31       21       20.6        -8.4        18.1   \n",
            "219166  2024     12            31       22       19.3        -8.3        16.2   \n",
            "219167  2024     12            31       23       15.6        -6.4        13.4   \n",
            "\n",
            "        Bz_GSM[nT]  T_proton[K]  N_proton[cm^-3]  V_sw[km/s]  \\\n",
            "0              1.6     324194.0              2.9       675.0   \n",
            "1             -2.7     302235.0              2.6       677.0   \n",
            "2             -1.6     349786.0              2.2       708.0   \n",
            "3             -2.3     362297.0              2.1       706.0   \n",
            "4             -1.2     429384.0              2.0       721.0   \n",
            "...            ...          ...              ...         ...   \n",
            "219163        -2.5     207053.0             18.2       410.0   \n",
            "219164        -7.4     150655.0             18.6       443.0   \n",
            "219165        -4.4     159886.0             23.2       448.0   \n",
            "219166        -5.7     101127.0             22.2       444.0   \n",
            "219167        -3.1      83089.0             24.6       443.0   \n",
            "\n",
            "        Flow_pressure[nPa]  E_field[mV/m]  Sunspot_num  f10.7[sfu]  \\\n",
            "0                     2.64          -1.08           71       125.6   \n",
            "1                     2.38           1.83           71       125.6   \n",
            "2                     2.21           1.13           71       125.6   \n",
            "3                     2.09           1.62           71       125.6   \n",
            "4                     2.08           0.87           71       125.6   \n",
            "...                    ...            ...          ...         ...   \n",
            "219163                6.12           1.02          179       210.4   \n",
            "219164                7.30           3.28          179       210.4   \n",
            "219165                9.31           1.97          179       210.4   \n",
            "219166                8.75           2.53          179       210.4   \n",
            "219167                9.66           1.37          179       210.4   \n",
            "\n",
            "        Lyman_alpha[W/m^2]  Dst[nT]  \n",
            "0                 0.007890      -45  \n",
            "1                 0.007890      -37  \n",
            "2                 0.007890      -37  \n",
            "3                 0.007890      -41  \n",
            "4                 0.007890      -45  \n",
            "...                    ...      ...  \n",
            "219163            0.009535        7  \n",
            "219164            0.009535       -6  \n",
            "219165            0.009535      -18  \n",
            "219166            0.009535      -23  \n",
            "219167            0.009535      -22  \n",
            "\n",
            "[219168 rows x 17 columns]\n"
          ]
        }
      ]
    },
    {
      "cell_type": "markdown",
      "source": [
        "# 線形回帰を動かす\n",
        "\n",
        "ここまでおつかれさまでした。  \n",
        "ついに機械学習アルゴリズムを動かすときが来ました。  \n",
        "\n",
        "scikit-learn には教師あり学習のモデル・アルゴリズムが多数実装されています：  \n",
        "👉 [Supervised Learning — scikit-learn](https://scikit-learn.org/stable/supervised_learning.html#supervised-learning)\n",
        "\n",
        "すさまじい量ですね！色々ありますが、まずは最も単純な手法の一つである **線形回帰（重回帰） = `LinearRegression`** を動かしてみましょう。\n",
        "\n",
        "---\n",
        "\n",
        "## 線形モデルとは？\n",
        "\n",
        "線形モデルは次のように表されます：\n",
        "\n",
        "$$\n",
        "y = w_1 x_1 + w_2 x_2 + \\cdots + w_d x_d + b\n",
        "$$\n",
        "\n",
        "ここで、\n",
        "\n",
        "- $x = (x_1, x_2, \\dots, x_d)$ ：特徴ベクトル  \n",
        "- $d$ ：特徴量の次元数（例では入力の列数）  \n",
        "- $w_1, w_2, \\dots, w_d$ ：学習されるパラメータ（重み）  \n",
        "- $b$ ：切片\n",
        "\n",
        "「線形モデルを学習する」とは、訓練データから **パラメータ \\(w, b\\) をうまく推定する** ことを意味します。\n",
        "\n",
        "特に、平均二乗誤差（MSE）\n",
        "\n",
        "$$\n",
        "\\text{MSE} = \\frac{1}{n} \\sum_{i=1}^{n} (y_i - \\hat{y}_i)^2\n",
        "$$\n",
        "\n",
        "を最小化することで学習する場合、この手法は **線形回帰** と呼ばれます。\n",
        "\n",
        "---\n",
        "\n",
        "## 線形モデルの多様性\n",
        "\n",
        "- 「線形回帰」は二乗誤差を最小化する方法。  \n",
        "- 他の損失関数や制約を課すと、別のアルゴリズム（例：リッジ回帰、ラッソ回帰）になります。  \n",
        "- sklearn の `Linear Models` には [17 種類以上の手法]( https://scikit-learn.org/stable/supervised_learning.html#supervised-learning )が実装されていますが、**基本的なモデルの形は同じ**で、学習アルゴリズムや制約が異なるだけです。  \n",
        "\n",
        "---\n",
        "\n",
        "## sklearn での基本手順\n",
        "\n",
        "scikit-learn で学習を行う流れはシンプルです：\n",
        "\n",
        "1. **モデルのインスタンスを作成**  \n",
        "   例: `model = LinearRegression()`\n",
        "\n",
        "2. **fit メソッドで学習**  \n",
        "   訓練データ \\(X\\)（行列）と 目標値 \\(y\\)（ベクトル）を渡す。  \n",
        "   例: `model.fit(X_train, y_train)`\n",
        "\n",
        "3. **predict メソッドで予測**  \n",
        "   学習済みモデルを使って新しい入力に対する出力を予測する。  \n",
        "   例: `y_pred = model.predict(X_test)`\n",
        "\n",
        "scikit-learn では「学習アルゴリズムを選ぶ」という操作は、**インスタンスを作る時点でクラスを選択する**ことで行います。\n",
        "\n",
        "それでは、実際に上記の手順で学習してみましょう！\n"
      ],
      "metadata": {
        "id": "pFRp89_edsQa"
      }
    },
    {
      "cell_type": "code",
      "source": [
        "# 手順1：LinearRegressionのインスタンスの作成\n",
        "lr = LinearRegression()\n",
        "# 手順2：上で作ったオブジェクトの学習\n",
        "lr.fit(x_train, y_train)\n",
        "# 手順3：テストデータに対する予測\n",
        "y_pred_test = lr.predict(x_test)"
      ],
      "metadata": {
        "id": "VIZ0jTCM_Fzg"
      },
      "execution_count": 23,
      "outputs": []
    },
    {
      "cell_type": "markdown",
      "source": [
        "これで学習とテストデータに対する予測まで終わりました!たった3行です．<br>\n",
        "すごいですね．予測結果をプリントしてみましょう．"
      ],
      "metadata": {
        "id": "rRnqrEocfrQe"
      }
    },
    {
      "cell_type": "code",
      "source": [
        "print(y_pred_test)"
      ],
      "metadata": {
        "colab": {
          "base_uri": "https://localhost:8080/"
        },
        "id": "W65dqvOyNZMZ",
        "outputId": "f22f7165-2df9-415a-f438-5b045a010164"
      },
      "execution_count": 24,
      "outputs": [
        {
          "output_type": "stream",
          "name": "stdout",
          "text": [
            "[[-38.82510668]\n",
            " [-38.83711022]\n",
            " [-32.24050514]\n",
            " ...\n",
            " [-14.87837967]\n",
            " [-14.38495136]\n",
            " [-15.52173819]]\n"
          ]
        }
      ]
    },
    {
      "cell_type": "markdown",
      "source": [
        "予測結果がどのように変化しているかを可視化(プロット)してみましょう。\n",
        "x軸、y軸の配列をx,yとすると\n",
        "\n",
        "plt.plot(y) #この場合x軸のラベルは要素の順番になる<br>\n",
        "plt.plot(x, y),<br>\n",
        "でプロットすることができます。"
      ],
      "metadata": {
        "id": "CjQE1eWJf7Ji"
      }
    },
    {
      "cell_type": "code",
      "source": [
        "import matplotlib.pyplot as plt\n",
        "plt.plot(y_pred_test)\n",
        "plt.show()"
      ],
      "metadata": {
        "colab": {
          "base_uri": "https://localhost:8080/",
          "height": 430
        },
        "id": "THu9Y01aNfoB",
        "outputId": "480a32b5-b2be-4f19-ecbd-ff1458182c02"
      },
      "execution_count": 25,
      "outputs": [
        {
          "output_type": "display_data",
          "data": {
            "text/plain": [
              "<Figure size 640x480 with 1 Axes>"
            ],
            "image/png": "[encoded data removed]"
          },
          "metadata": {}
        }
      ]
    },
    {
      "cell_type": "markdown",
      "source": [
        "#予測結果の提出<br>\n",
        "予測ができたので，この結果をcsvファイルで提出することを考えます(今回のビッグデータ大学のプラットフォームではcsvファイルのみ提出を受け付けている)．予測結果をファイルに出力しなければなりません．ファイル出力ときくと面倒そうだと思うかもしれませんが，NumPyを用いれば以下のように簡単にできます．"
      ],
      "metadata": {
        "id": "JESZqJkwhHZW"
      }
    },
    {
      "cell_type": "code",
      "source": [
        "np.savetxt('/content/drive/My Drive/PBL2025/y_pred_lr.csv', y_pred_test,delimiter=',')\n",
        "#ファイル名と保存したいnumpy配列、区切り文字の順に入力\n",
        "#delimiter:区切り文字を指定します。CSVの場合は`,`を指定します。"
      ],
      "metadata": {
        "id": "bPzYOZaDhGgQ"
      },
      "execution_count": 26,
      "outputs": []
    },
    {
      "cell_type": "markdown",
      "source": [
        "y_pred_lr.csvというファイルが生成されました（Google Colabの場合は，画面左側のタブが「ファイル」のであるとき，「ファイル」という文字の下に3つアイコンがありますが，その真ん中の「更新」アイコンを押すと出てくるはずです）．これをビッグデータ大学に提出してみてください（Google Colabの場合はまず生成されたy_pred_lr.csvをダウンロードしてください）．"
      ],
      "metadata": {
        "id": "cBZCg_cqlM7X"
      }
    }
  ]
}